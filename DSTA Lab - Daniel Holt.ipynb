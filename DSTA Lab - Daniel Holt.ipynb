{
 "cells": [
  {
   "cell_type": "markdown",
   "metadata": {},
   "source": [
    "## Brexit Votes "
   ]
  },
  {
   "cell_type": "markdown",
   "metadata": {},
   "source": [
    "Download the Geographic Matrix for all of UK ditstricts"
   ]
  },
  {
   "cell_type": "code",
   "execution_count": 11,
   "metadata": {},
   "outputs": [],
   "source": [
    "import pandas as pd\n",
    "distance_matrix = pd.read_csv('http://www.dcs.bbk.ac.uk/~ale/dsta/dsta-6/data/uk-districts-distances.csv')\n",
    "distance_matrix.columns = ['AREA_A', 'AREA_B', 'DIST_KM']"
   ]
  },
  {
   "cell_type": "markdown",
   "metadata": {},
   "source": [
    "Dowanloding the inforamtion about Brexit votes"
   ]
  },
  {
   "cell_type": "code",
   "execution_count": 12,
   "metadata": {},
   "outputs": [],
   "source": [
    "def download_votes():\n",
    "    votes = pd.read_csv('http://www.dcs.bbk.ac.uk/~ale/dsta/dsta-6/data/2016-referendum-results.csv')\n",
    "    votes.columns = ['id','Region_Code','Region','Area_Code','Area','Electorate',\n",
    "                 'ExpectedBallots','VerifiedBallotPapers','Pct_Turnout','Votes_Cast','Valid_Votes'\n",
    "                 ,'Remain','Leave','Rejected_Ballots','No_official_mark','Voting_for_both_answers','Writing_or_mark',\n",
    "                 'Unmarked_or_void','Pct_Remain','Pct_Leave','Pct_Rejected']\n",
    "    return votes\n",
    "\n",
    "votes = download_votes()"
   ]
  },
  {
   "cell_type": "markdown",
   "metadata": {},
   "source": [
    "Normalizing the votes dataframe"
   ]
  },
  {
   "cell_type": "code",
   "execution_count": 13,
   "metadata": {},
   "outputs": [],
   "source": [
    "votes['normalized'] = votes['Leave'] / (votes['Leave'] + votes['Remain'] - votes['Rejected_Ballots'])\n",
    "votes = votes.drop(['id','Region_Code','Region','Area','Electorate',\n",
    "                 'ExpectedBallots','VerifiedBallotPapers','Pct_Turnout','Votes_Cast','Valid_Votes'\n",
    "                 ,'Remain', 'Leave','Rejected_Ballots','No_official_mark','Voting_for_both_answers','Writing_or_mark',\n",
    "                 'Unmarked_or_void','Pct_Remain','Pct_Leave','Pct_Rejected'], axis=1)\n",
    "votes = votes.set_index('Area_Code')"
   ]
  },
  {
   "cell_type": "markdown",
   "metadata": {},
   "source": [
    "create list of distinct areas"
   ]
  },
  {
   "cell_type": "code",
   "execution_count": 14,
   "metadata": {},
   "outputs": [],
   "source": [
    "distinct_areas = set(votes.index)\n",
    "distinct_areas = list(distinct_areas)"
   ]
  },
  {
   "cell_type": "markdown",
   "metadata": {},
   "source": [
    "Find out districts border which has the steepest gravity distance"
   ]
  },
  {
   "cell_type": "code",
   "execution_count": 15,
   "metadata": {},
   "outputs": [],
   "source": [
    "temp = []\n",
    "max = 0\n",
    "for i in range(len(distinct_areas)): #iterating on all the areas\n",
    "    if i == len(distinct_areas) - 1: \n",
    "        area1 = distinct_areas[i]\n",
    "        area2 = distinct_areas[0]\n",
    "    else:\n",
    "        area1 = distinct_areas[i]\n",
    "        area2 = distinct_areas[i+1]\n",
    "        \n",
    "    vote_1 = votes.loc[area1].item() # choosing two areas for comparison\n",
    "    vote_2 = votes.loc[area2].item()\n",
    "    df = distance_matrix\n",
    "    \n",
    "    dist = df.loc[(df['AREA_A'] == area1)&(df['AREA_B'] == area2),'DIST_KM'].iloc[0]\n",
    "    lambda_1 = vote_1 - vote_2\n",
    "    lambda_2 = (vote_1 - vote_2)/ dist\n",
    "    if lambda_2 > max:\n",
    "        max = lambda_2\n",
    "        temp = (area1, area2)"
   ]
  },
  {
   "cell_type": "markdown",
   "metadata": {},
   "source": [
    "Resetting the votes dataframe and displaying the results"
   ]
  },
  {
   "cell_type": "code",
   "execution_count": 16,
   "metadata": {},
   "outputs": [
    {
     "name": "stdout",
     "output_type": "stream",
     "text": [
      "Broxbourne  and  Westminster\n",
      "have the districts border which has the steepest gravity distance\n"
     ]
    }
   ],
   "source": [
    "votes = download_votes()\n",
    "print(votes.loc[votes['Area_Code'] == temp[0], 'Area'].item(), \" and \", votes.loc[votes['Area_Code'] == temp[1], 'Area'].values[0])\n",
    "print(\"Have the districts border which has the steepest gravity distance\")"
   ]
  },
  {
   "cell_type": "code",
   "execution_count": null,
   "metadata": {},
   "outputs": [],
   "source": []
  }
 ],
 "metadata": {
  "kernelspec": {
   "display_name": "Python 3",
   "language": "python",
   "name": "python3"
  },
  "language_info": {
   "codemirror_mode": {
    "name": "ipython",
    "version": 3
   },
   "file_extension": ".py",
   "mimetype": "text/x-python",
   "name": "python",
   "nbconvert_exporter": "python",
   "pygments_lexer": "ipython3",
   "version": "3.6.5"
  }
 },
 "nbformat": 4,
 "nbformat_minor": 2
}
